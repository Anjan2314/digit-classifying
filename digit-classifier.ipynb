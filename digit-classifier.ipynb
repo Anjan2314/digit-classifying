{
  "nbformat": 4,
  "nbformat_minor": 0,
  "metadata": {
    "colab": {
      "name": "Untitled0.ipynb",
      "version": "0.3.2",
      "views": {},
      "default_view": {},
      "provenance": [],
      "toc_visible": true
    },
    "kernelspec": {
      "name": "python3",
      "display_name": "Python 3"
    }
  },
  "cells": [
    {
      "metadata": {
        "id": "JVCeNdBTa9cG",
        "colab_type": "code",
        "colab": {
          "autoexec": {
            "startup": false,
            "wait_interval": 0
          },
          "output_extras": [
            {
              "item_id": 1
            }
          ],
          "base_uri": "https://localhost:8080/",
          "height": 35
        },
        "outputId": "7913bc92-9c6b-4896-b8b0-16df24f87b00",
        "executionInfo": {
          "status": "ok",
          "timestamp": 1520241017140,
          "user_tz": -330,
          "elapsed": 6546,
          "user": {
            "displayName": "Sushaanth P",
            "photoUrl": "//lh3.googleusercontent.com/-5DOMFFhuRUI/AAAAAAAAAAI/AAAAAAAABLA/i4jrqUMsvgE/s50-c-k-no/photo.jpg",
            "userId": "106042797218789126709"
          }
        }
      },
      "cell_type": "code",
      "source": [
        "!pip install -q keras\n",
        "\n",
        "import numpy as np \n",
        "import pandas as pd \n",
        "import matplotlib.pyplot as plt\n",
        "from sklearn.model_selection import train_test_split\n",
        "\n",
        "from keras.datasets import mnist\n",
        "from keras.models import Sequential\n",
        "from keras.callbacks import EarlyStopping\n",
        "from keras.optimizers import Adam ,RMSprop\n",
        "from keras.layers import Conv2D, MaxPooling2D\n",
        "from keras.utils.np_utils import to_categorical\n",
        "from keras.preprocessing.image import ImageDataGenerator\n",
        "from keras.layers import Dense, Dropout, Lambda, Flatten, Activation, Dropout\n",
        "\n",
        "%matplotlib inline\n",
        "np.random.seed(1337)"
      ],
      "execution_count": 2,
      "outputs": [
        {
          "output_type": "stream",
          "text": [
            "Using TensorFlow backend.\n"
          ],
          "name": "stderr"
        }
      ]
    },
    {
      "metadata": {
        "id": "wB1rwWpJbV4X",
        "colab_type": "code",
        "colab": {
          "autoexec": {
            "startup": false,
            "wait_interval": 0
          },
          "output_extras": [
            {
              "item_id": 2
            }
          ],
          "base_uri": "https://localhost:8080/",
          "height": 53
        },
        "outputId": "3191e5fd-05f4-4590-e93a-d8ad71d41187",
        "executionInfo": {
          "status": "ok",
          "timestamp": 1520241069907,
          "user_tz": -330,
          "elapsed": 2691,
          "user": {
            "displayName": "Sushaanth P",
            "photoUrl": "//lh3.googleusercontent.com/-5DOMFFhuRUI/AAAAAAAAAAI/AAAAAAAABLA/i4jrqUMsvgE/s50-c-k-no/photo.jpg",
            "userId": "106042797218789126709"
          }
        }
      },
      "cell_type": "code",
      "source": [
        "(x_train, y_train), (x_test, y_test) = mnist.load_data()\n",
        "x_train.shape\n",
        "x_train = x_train.reshape(x_train.shape[0], 784).astype('float32')\n",
        "x_test = x_test.reshape(x_test.shape[0], 784).astype('float32')\n",
        "x_train /= 255\n",
        "x_test /= 255"
      ],
      "execution_count": 3,
      "outputs": [
        {
          "output_type": "stream",
          "text": [
            "Downloading data from https://s3.amazonaws.com/img-datasets/mnist.npz\n",
            "11493376/11490434 [==============================] - 1s 0us/step\n"
          ],
          "name": "stdout"
        }
      ]
    },
    {
      "metadata": {
        "id": "761Fj8zObc7C",
        "colab_type": "code",
        "colab": {
          "autoexec": {
            "startup": false,
            "wait_interval": 0
          }
        }
      },
      "cell_type": "code",
      "source": [
        "number_of_classes = 10\n",
        "y_train.shape\n",
        "y_train = to_categorical(y_train,number_of_classes)\n",
        "y_test = to_categorical(y_test,number_of_classes)"
      ],
      "execution_count": 0,
      "outputs": []
    },
    {
      "metadata": {
        "id": "VaXXo4y-bh-m",
        "colab_type": "code",
        "colab": {
          "autoexec": {
            "startup": false,
            "wait_interval": 0
          }
        }
      },
      "cell_type": "code",
      "source": [
        "y_test.shape\n",
        "#model\n",
        "model = Sequential()\n",
        "model.add(Dense(784, input_shape = (784,)))\n",
        "model.add(Activation('relu'))\n",
        "\n",
        "model.add(Dense(64))\n",
        "model.add(Activation('relu'))\n",
        "\n",
        "model.add(Dense(10))\n",
        "model.add(Activation('softmax'))\n",
        "\n",
        "model.compile(optimizer = 'adagrad', loss='categorical_crossentropy', metrics=['accuracy'])"
      ],
      "execution_count": 0,
      "outputs": []
    },
    {
      "metadata": {
        "id": "I7G6t-84gb-w",
        "colab_type": "text"
      },
      "cell_type": "markdown",
      "source": [
        ""
      ]
    },
    {
      "metadata": {
        "id": "KbiMxUtfbqDF",
        "colab_type": "code",
        "colab": {
          "autoexec": {
            "startup": false,
            "wait_interval": 0
          },
          "output_extras": [
            {
              "item_id": 59
            },
            {
              "item_id": 115
            },
            {
              "item_id": 181
            },
            {
              "item_id": 250
            },
            {
              "item_id": 316
            },
            {
              "item_id": 343
            }
          ],
          "base_uri": "https://localhost:8080/",
          "height": 419
        },
        "outputId": "63971e9f-771e-4b24-d60d-0fb3394f760c",
        "executionInfo": {
          "status": "ok",
          "timestamp": 1520241283051,
          "user_tz": -330,
          "elapsed": 156595,
          "user": {
            "displayName": "Sushaanth P",
            "photoUrl": "//lh3.googleusercontent.com/-5DOMFFhuRUI/AAAAAAAAAAI/AAAAAAAABLA/i4jrqUMsvgE/s50-c-k-no/photo.jpg",
            "userId": "106042797218789126709"
          }
        }
      },
      "cell_type": "code",
      "source": [
        "classifier = model.fit(x_train, y_train, batch_size = 32, epochs = 10, verbose = True, validation_data = (x_test, y_test))"
      ],
      "execution_count": 6,
      "outputs": [
        {
          "output_type": "stream",
          "text": [
            "Train on 60000 samples, validate on 10000 samples\n",
            "Epoch 1/10\n",
            "60000/60000 [==============================] - 16s 269us/step - loss: 0.2363 - acc: 0.9322 - val_loss: 0.1321 - val_acc: 0.9614\n",
            "Epoch 2/10\n",
            "43776/60000 [====================>.........] - ETA: 4s - loss: 0.1129 - acc: 0.9677"
          ],
          "name": "stdout"
        },
        {
          "output_type": "stream",
          "text": [
            "60000/60000 [==============================] - 16s 261us/step - loss: 0.1078 - acc: 0.9692 - val_loss: 0.0990 - val_acc: 0.9703\n",
            "Epoch 3/10\n",
            "60000/60000 [==============================] - 15s 256us/step - loss: 0.0789 - acc: 0.9771 - val_loss: 0.0863 - val_acc: 0.9733\n",
            "Epoch 4/10\n",
            "18720/60000 [========>.....................] - ETA: 10s - loss: 0.0636 - acc: 0.9820"
          ],
          "name": "stdout"
        },
        {
          "output_type": "stream",
          "text": [
            "60000/60000 [==============================] - 16s 259us/step - loss: 0.0624 - acc: 0.9820 - val_loss: 0.0854 - val_acc: 0.9729\n",
            "Epoch 5/10\n",
            "60000/60000 [==============================] - 16s 260us/step - loss: 0.0511 - acc: 0.9859 - val_loss: 0.0716 - val_acc: 0.9787\n",
            "Epoch 6/10\n",
            "12384/60000 [=====>........................] - ETA: 12s - loss: 0.0396 - acc: 0.9901"
          ],
          "name": "stdout"
        },
        {
          "output_type": "stream",
          "text": [
            "60000/60000 [==============================] - 15s 257us/step - loss: 0.0430 - acc: 0.9882 - val_loss: 0.0687 - val_acc: 0.9790\n",
            "Epoch 7/10\n",
            "60000/60000 [==============================] - 16s 259us/step - loss: 0.0365 - acc: 0.9902 - val_loss: 0.0641 - val_acc: 0.9803\n",
            "Epoch 8/10\n",
            "11840/60000 [====>.........................] - ETA: 11s - loss: 0.0289 - acc: 0.9938"
          ],
          "name": "stdout"
        },
        {
          "output_type": "stream",
          "text": [
            "60000/60000 [==============================] - 16s 258us/step - loss: 0.0312 - acc: 0.9920 - val_loss: 0.0623 - val_acc: 0.9812\n",
            "Epoch 9/10\n",
            "60000/60000 [==============================] - 15s 256us/step - loss: 0.0273 - acc: 0.9934 - val_loss: 0.0615 - val_acc: 0.9803\n",
            "Epoch 10/10\n",
            "10976/60000 [====>.........................] - ETA: 12s - loss: 0.0206 - acc: 0.9961"
          ],
          "name": "stdout"
        },
        {
          "output_type": "stream",
          "text": [
            "60000/60000 [==============================] - 15s 256us/step - loss: 0.0238 - acc: 0.9947 - val_loss: 0.0609 - val_acc: 0.9814\n"
          ],
          "name": "stdout"
        }
      ]
    },
    {
      "metadata": {
        "id": "3HgxYHZ6cUp0",
        "colab_type": "code",
        "colab": {
          "autoexec": {
            "startup": false,
            "wait_interval": 0
          },
          "output_extras": [
            {
              "item_id": 1
            },
            {
              "item_id": 2
            },
            {
              "item_id": 3
            }
          ],
          "base_uri": "https://localhost:8080/",
          "height": 608
        },
        "outputId": "5cf9812a-1b02-4bf6-87ef-81f1ba618db6",
        "executionInfo": {
          "status": "ok",
          "timestamp": 1520241559905,
          "user_tz": -330,
          "elapsed": 1649,
          "user": {
            "displayName": "Sushaanth P",
            "photoUrl": "//lh3.googleusercontent.com/-5DOMFFhuRUI/AAAAAAAAAAI/AAAAAAAABLA/i4jrqUMsvgE/s50-c-k-no/photo.jpg",
            "userId": "106042797218789126709"
          }
        }
      },
      "cell_type": "code",
      "source": [
        "plt.plot(classifier.history['acc'])\n",
        "plt.plot(classifier.history['val_acc'])\n",
        "plt.title('model accuracy')\n",
        "plt.ylabel('accuracy')\n",
        "plt.xlabel('epoch')\n",
        "plt.legend(['train', 'validation'], loc='upper left')\n",
        "plt.show()\n",
        "\n",
        "\n",
        "plt.plot(classifier.history['loss'])\n",
        "plt.plot(classifier.history['val_loss'])\n",
        "plt.title('model loss')\n",
        "plt.ylabel('loss')\n",
        "plt.xlabel('epoch')\n",
        "plt.legend(['train', 'validation'], loc='upper left')\n",
        "plt.show()\n",
        "\n",
        "score = model.evaluate(x_test, y_test, verbose=0)\n",
        "print('Test loss:', score[0])\n",
        "print('Test accuracy:', score[1])"
      ],
      "execution_count": 9,
      "outputs": [
        {
          "output_type": "display_data",
          "data": {
            "image/png": "[encoded data removed]",
            "text/plain": [
              "<matplotlib.figure.Figure at 0x7fb62bd309e8>"
            ]
          },
          "metadata": {
            "tags": []
          }
        },
        {
          "output_type": "display_data",
          "data": {
            "image/png": "[encoded data removed]",
            "text/plain": [
              "<matplotlib.figure.Figure at 0x7fb62bce94e0>"
            ]
          },
          "metadata": {
            "tags": []
          }
        },
        {
          "output_type": "stream",
          "text": [
            "Test loss: 0.06087730827848427\n",
            "Test accuracy: 0.9814\n"
          ],
          "name": "stdout"
        }
      ]
    }
  ]
}